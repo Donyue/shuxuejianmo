{
 "cells": [
  {
   "cell_type": "code",
   "execution_count": 1,
   "metadata": {},
   "outputs": [],
   "source": [
    "import requests\n",
    "from lxml import etree\n",
    "\n",
    "url = 'http://www.chinacloud.cn/show.aspx?id=22720&cid=22&tdsourcetag=s_pcqq_aiomsg'\n",
    "response = requests.get(url)\n",
    "page_html = etree.HTML(response.text)\n",
    "content = '\\n'.join(page_html.xpath(\"//div[@id='content']//text()\"))\n",
    "with open('demo0.txt', 'w', encoding='utf-8') as f:\n",
    "    f.write(content)"
   ]
  },
  {
   "cell_type": "markdown",
   "metadata": {},
   "source": [
    "https://www.zhihu.com/question/312853466/answer/651417294\n",
    "//*[@id=\"root\"]/div/main/div/div[2]/div[1]/div/div[2]/div/div/div[2]/div[1]\n",
    "//*[@id=\"root\"]/div/main/div/div[2]/div[1]/div/div[2]/div/div/div[2]/div[1]/span\n",
    "//*[@id=\"root\"]/div/main/div/div[2]/div[1]/div/div[2]/div/div/div[2]/div[1]"
   ]
  },
  {
   "cell_type": "code",
   "execution_count": 7,
   "metadata": {},
   "outputs": [
    {
     "ename": "SyntaxError",
     "evalue": "invalid syntax (<ipython-input-7-ec0e4baa6eae>, line 7)",
     "output_type": "error",
     "traceback": [
      "\u001b[1;36m  File \u001b[1;32m\"<ipython-input-7-ec0e4baa6eae>\"\u001b[1;36m, line \u001b[1;32m7\u001b[0m\n\u001b[1;33m    content = '\\n'.join(page_html.element(\"//*[@class=\"RichText ztext CopyrightRichText-richText\"]//text()\"))\u001b[0m\n\u001b[1;37m                                                              ^\u001b[0m\n\u001b[1;31mSyntaxError\u001b[0m\u001b[1;31m:\u001b[0m invalid syntax\n"
     ]
    }
   ],
   "source": [
    "import requests\n",
    "from lxml import etree\n",
    "\n",
    "url = 'https://www.zhihu.com/question/312853466/answer/651417294'\n",
    "response = requests.get(url)\n",
    "page_html = etree.HTML(response.text)\n",
    "content = '\\n'.join(page_html.xpath(\"//*[@class=\"RichContent-inner\"]//text()\"))\n",
    "with open('个免费英文文献下载网站！必须收藏起来.txt', 'w', encoding='utf-8') as f:\n",
    "    f.write(content)"
   ]
  },
  {
   "cell_type": "code",
   "execution_count": null,
   "metadata": {},
   "outputs": [],
   "source": []
  }
 ],
 "metadata": {
  "kernelspec": {
   "display_name": "Python 3",
   "language": "python",
   "name": "python3"
  },
  "language_info": {
   "codemirror_mode": {
    "name": "ipython",
    "version": 3
   },
   "file_extension": ".py",
   "mimetype": "text/x-python",
   "name": "python",
   "nbconvert_exporter": "python",
   "pygments_lexer": "ipython3",
   "version": "3.7.4"
  }
 },
 "nbformat": 4,
 "nbformat_minor": 2
}
