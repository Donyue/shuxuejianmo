{
 "cells": [
  {
   "cell_type": "code",
   "execution_count": null,
   "metadata": {},
   "outputs": [],
   "source": [
    "from selenium import webdriver\n",
    "import requests\n",
    "browser = webdriver.Chrome()\n",
    "browser = browser.get(\"http://www.chinacloud.cn/show.aspx?id=22720&cid=22\")\n",
    "contents = browser.find_element_by_xpath('//div[@id=\"content\"]')"
   ]
  },
  {
   "cell_type": "markdown",
   "metadata": {},
   "source": [
    "http://www.chinacloud.cn/show.aspx?id=22720&cid=22\n",
    "//*[@id=\"content\"]\n"
   ]
  },
  {
   "cell_type": "code",
   "execution_count": null,
   "metadata": {},
   "outputs": [],
   "source": [
    "import requests\n",
    "from bs4 import BeautifulSoup\n",
    "from urllib.parse import urljoin\n",
    "\n",
    "host = 'http://www.chinacloud.cn/show.aspx?id=22720&cid=22 '\n",
    "headers = {'user-agent':'Mozilla/5.0 (Windows NT 6.1; Win64; x64) AppleWebKit/537.36 (KHTML, like Gecko) Chrome/76.0.3809.132 Safari/537.36'}"
   ]
  },
  {
   "cell_type": "code",
   "execution_count": null,
   "metadata": {},
   "outputs": [],
   "source": [
    "def get_info(url):\n",
    "    content = requests.get(url, headers = headers).text\n",
    "    soup = BeautifulSoup(content, 'lxml')\n",
    "    title = soup.find('h1',class='aTitle').text\n",
    "    body = soup.find('div',id='content')\n",
    "    p_list = []\n",
    "    for p in body.find_all('p'):\n",
    "        p.list.append(p.text)\n",
    "    body_str = '\\n'.join(p.list)\n",
    "    return {'url':url, 'body':body_str}\n",
    "    "
   ]
  },
  {
   "cell_type": "code",
   "execution_count": null,
   "metadata": {},
   "outputs": [],
   "source": [
    "import requests\n",
    "from bs4 import BeautifulSoup\n",
    "#import urllib.request\n",
    "\n",
    "host = 'http://www.chinacloud.cn/show.aspx?id=22720&cid=22 '\n",
    "headers = {'user-agent':'Mozilla/5.0 (Windows NT 6.1; Win64; x64) AppleWebKit/537.36 (KHTML, like Gecko) Chrome/76.0.3809.132 Safari/537.36'}\n",
    "content = requests.get(url, headers = headers)\n",
    "\n",
    "soup = BeautifulSoup(content.text, 'lxml')\n",
    "#title = soup.find('h1', class='aTitle').text\n",
    "body = soup.find('div',id='content')\n",
    "p_list = []\n",
    "\n",
    "for p in body.find_all('p'):\n",
    "    p.list.append(p.text)\n",
    "body_str = '\\n'.join(p.list)\n",
    "return {'body':body_str}"
   ]
  },
  {
   "cell_type": "code",
   "execution_count": null,
   "metadata": {},
   "outputs": [],
   "source": []
  },
  {
   "cell_type": "code",
   "execution_count": null,
   "metadata": {},
   "outputs": [],
   "source": []
  }
 ],
 "metadata": {
  "kernelspec": {
   "display_name": "Python 3",
   "language": "python",
   "name": "python3"
  },
  "language_info": {
   "codemirror_mode": {
    "name": "ipython",
    "version": 3
   },
   "file_extension": ".py",
   "mimetype": "text/x-python",
   "name": "python",
   "nbconvert_exporter": "python",
   "pygments_lexer": "ipython3",
   "version": "3.7.4"
  }
 },
 "nbformat": 4,
 "nbformat_minor": 2
}
